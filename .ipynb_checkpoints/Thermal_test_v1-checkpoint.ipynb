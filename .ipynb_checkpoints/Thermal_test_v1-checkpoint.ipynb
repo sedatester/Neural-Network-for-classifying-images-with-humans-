{
 "cells": [
  {
   "cell_type": "code",
   "execution_count": 1,
   "metadata": {
    "collapsed": true,
    "deletable": true,
    "editable": true
   },
   "outputs": [],
   "source": [
    "# These are all the modules we'll be using later. Make sure you can import them\n",
    "# before proceeding further.\n",
    "from __future__ import print_function\n",
    "import matplotlib.pyplot as plt\n",
    "import numpy as np\n",
    "import os\n",
    "import sys\n",
    "import tarfile\n",
    "from IPython.display import display, Image\n",
    "from scipy import ndimage\n",
    "from sklearn.linear_model import LogisticRegression\n",
    "from six.moves.urllib.request import urlretrieve\n",
    "from six.moves import cPickle as pickle\n",
    "\n",
    "# Config the matplotlib backend as plotting inline in IPython\n",
    "%matplotlib inline"
   ]
  },
  {
   "cell_type": "code",
   "execution_count": 15,
   "metadata": {
    "collapsed": true,
    "deletable": true,
    "editable": true
   },
   "outputs": [],
   "source": [
    "train_folders = ['D:/Project/Thermal images testing/flir_17_Sept_2013/train/positives',\n",
    "                 'D:/Project/Thermal images testing/flir_17_Sept_2013/train/negatives']"
   ]
  },
  {
   "cell_type": "code",
   "execution_count": 16,
   "metadata": {
    "collapsed": true,
    "deletable": true,
    "editable": true
   },
   "outputs": [],
   "source": [
    "test_folders = ['D:/Project/Thermal images testing/flir_17_Sept_2013/test_created_by_me/positives', \n",
    "                'D:/Project/Thermal images testing/flir_17_Sept_2013/test_created_by_me/negatives']"
   ]
  },
  {
   "cell_type": "code",
   "execution_count": 18,
   "metadata": {
    "collapsed": false,
    "deletable": true,
    "editable": true
   },
   "outputs": [
    {
     "name": "stdout",
     "output_type": "stream",
     "text": [
      "D:/Project/Thermal images testing/flir_17_Sept_2013/train/positives.pickle already present - Skipping pickling.\n",
      "Pickling D:/Project/Thermal images testing/flir_17_Sept_2013/train/negatives.pickle.\n",
      "D:/Project/Thermal images testing/flir_17_Sept_2013/train/negatives\n",
      "Full dataset tensor: (92L, 256L, 324L)\n",
      "Mean: 13.068\n",
      "Standard deviation: 6.17157\n",
      "Pickling D:/Project/Thermal images testing/flir_17_Sept_2013/test_created_by_me/positives.pickle.\n",
      "D:/Project/Thermal images testing/flir_17_Sept_2013/test_created_by_me/positives\n",
      "Full dataset tensor: (778L, 256L, 324L)\n",
      "Mean: 9.93009\n",
      "Standard deviation: 3.95065\n",
      "Pickling D:/Project/Thermal images testing/flir_17_Sept_2013/test_created_by_me/negatives.pickle.\n",
      "D:/Project/Thermal images testing/flir_17_Sept_2013/test_created_by_me/negatives\n",
      "Full dataset tensor: (169L, 256L, 324L)\n",
      "Mean: 10.8741\n",
      "Standard deviation: 2.83364\n"
     ]
    }
   ],
   "source": [
    "pos_train_image_width = 64\n",
    "pos_train_image_height = 128\n",
    "\n",
    "neg_train_image_width = 324\n",
    "neg_train_image_height = 256\n",
    "\n",
    "test_image_width = 324\n",
    "test_image_height = 256\n",
    "\n",
    "pixel_depth = 8.0  # Number of levels per pixel.\n",
    "\n",
    "def load_class(folder, min_num_images, im_height, im_width, im_height_alt , im_width_alt):\n",
    "  \"\"\"Load the data for a single letter label.\"\"\"\n",
    "\n",
    "  image_files = os.listdir(folder)\n",
    "  test_image = (ndimage.imread(os.path.join(folder, image_files[0])).astype(float) - \n",
    "                    pixel_depth / 2) / pixel_depth\n",
    "  if test_image.shape != (im_height, im_width):\n",
    "        im_height = im_height_alt\n",
    "        im_width = im_width_alt\n",
    "    \n",
    "  dataset = np.ndarray(shape=(len(image_files), im_height, im_width),\n",
    "                         dtype=np.float32)\n",
    "  \n",
    "  print(folder)\n",
    "  num_images = 0\n",
    "  for image in image_files:\n",
    "    image_file = os.path.join(folder, image)\n",
    "    try:\n",
    "      image_data = (ndimage.imread(image_file).astype(float) - \n",
    "                    pixel_depth / 2) / pixel_depth\n",
    "      if image_data.shape != (im_height, im_width):\n",
    "        raise Exception('Unexpected image shape: %s' % str(image_data.shape))\n",
    "      dataset[num_images, :, :] = image_data\n",
    "      num_images = num_images + 1\n",
    "    except IOError as e:\n",
    "      print('Could not read:', image_file, ':', e, '- it\\'s ok, skipping.')\n",
    "    \n",
    "  dataset = dataset[0:num_images, :, :]\n",
    "  if num_images < min_num_images:\n",
    "    raise Exception('Many fewer images than expected: %d < %d' %\n",
    "                    (num_images, min_num_images))\n",
    "    \n",
    "  print('Full dataset tensor:', dataset.shape)\n",
    "  print('Mean:', np.mean(dataset))\n",
    "  print('Standard deviation:', np.std(dataset))\n",
    "  return dataset\n",
    "        \n",
    "def maybe_pickle(data_folders, min_num_images_per_class, im_height, im_width, im_height_alt, im_width_alt, force=False):\n",
    "  dataset_names = []\n",
    "  for folder in data_folders:\n",
    "    set_filename = folder + '.pickle'\n",
    "    dataset_names.append(set_filename)\n",
    "    if os.path.exists(set_filename) and not force:\n",
    "      # You may override by setting force=True.\n",
    "      print('%s already present - Skipping pickling.' % set_filename)\n",
    "    else:\n",
    "      print('Pickling %s.' % set_filename)\n",
    "      dataset = load_class(folder, min_num_images_per_class, im_height, im_width, im_height_alt, im_width_alt)\n",
    "      try:\n",
    "        with open(set_filename, 'wb') as f:\n",
    "          pickle.dump(dataset, f, pickle.HIGHEST_PROTOCOL)\n",
    "      except Exception as e:\n",
    "        print('Unable to save data to', set_filename, ':', e)\n",
    "  \n",
    "  return dataset_names\n",
    "\n",
    "train_datasets = maybe_pickle(train_folders, 90, pos_train_image_height, pos_train_image_width, \n",
    "                              neg_train_image_height, neg_train_image_width)\n",
    "test_datasets = maybe_pickle(test_folders, 90, test_image_height, test_image_width, test_image_height, test_image_width)\n"
   ]
  },
  {
   "cell_type": "code",
   "execution_count": null,
   "metadata": {
    "collapsed": true,
    "deletable": true,
    "editable": true
   },
   "outputs": [],
   "source": []
  },
  {
   "cell_type": "code",
   "execution_count": null,
   "metadata": {
    "collapsed": true,
    "deletable": true,
    "editable": true
   },
   "outputs": [],
   "source": []
  }
 ],
 "metadata": {
  "kernelspec": {
   "display_name": "Python 2",
   "language": "python",
   "name": "python2"
  },
  "language_info": {
   "codemirror_mode": {
    "name": "ipython",
    "version": 2
   },
   "file_extension": ".py",
   "mimetype": "text/x-python",
   "name": "python",
   "nbconvert_exporter": "python",
   "pygments_lexer": "ipython2",
   "version": "2.7.13"
  }
 },
 "nbformat": 4,
 "nbformat_minor": 0
}
